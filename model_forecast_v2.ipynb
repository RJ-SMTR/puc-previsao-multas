{
 "cells": [
  {
   "cell_type": "code",
   "execution_count": 1,
   "id": "3fe2d0b5-d886-4e65-8e51-be77c4a0e689",
   "metadata": {},
   "outputs": [],
   "source": [
    "import os\n",
    "import pandas as pd\n",
    "# Mudança de diretório\n",
    "os.chdir('E:\\\\Dropbox\\\\transito')"
   ]
  },
  {
   "cell_type": "code",
   "execution_count": 5,
   "id": "462dc9cc-5a8f-4c35-9702-c185f57500fc",
   "metadata": {},
   "outputs": [
    {
     "name": "stderr",
     "output_type": "stream",
     "text": [
      "C:\\Users\\rosal\\AppData\\Local\\Temp/ipykernel_10316/2174447303.py:15: DtypeWarning: Columns (5,8) have mixed types. Specify dtype option on import or set low_memory=False.\n",
      "  df = pd.read_csv(caminho_completo)\n"
     ]
    },
    {
     "name": "stdout",
     "output_type": "stream",
     "text": [
      "2019-01-01_2019-06-30.csv importado com sucesso!\n",
      "2019-07-01_2019-12-31.csv importado com sucesso!\n",
      "abr_jun_2022.csv importado com sucesso!\n",
      "jan_mar_2022.csv importado com sucesso!\n",
      "jul_set_2022.csv importado com sucesso!\n",
      "out_dez_2022.csv importado com sucesso!\n",
      "   Unnamed: 0    datetime_autuacao  \\\n",
      "0         0.0  2019-06-11 11:52:00   \n",
      "1         1.0  2019-06-11 09:38:00   \n",
      "2         2.0  2019-04-20 21:36:00   \n",
      "3         3.0  2019-04-20 06:48:00   \n",
      "4         4.0  2019-06-26 08:16:00   \n",
      "\n",
      "                                     status_infracao     pontuacao  \\\n",
      "0  89 - INFRACAO ENCAMINHADA AO DETRAN PARA VALID...       05GRAVE   \n",
      "1  89 - INFRACAO ENCAMINHADA AO DETRAN PARA VALID...  07GRAVISSIMA   \n",
      "2  89 - INFRACAO ENCAMINHADA AO DETRAN PARA VALID...       05GRAVE   \n",
      "3  41 - NOTIFICACAO PG COM REC. EM 2 INSTANCIA IN...       04MEDIA   \n",
      "4  89 - INFRACAO ENCAMINHADA AO DETRAN PARA VALID...  07GRAVISSIMA   \n",
      "\n",
      "  especie_veiculo uf_proprietario  valor_infracao  valor_pago data_pagamento  \n",
      "0      PASSAGEIRO             NaN          195.23      156.18     2023-09-12  \n",
      "1      PASSAGEIRO             NaN          880.41      704.32     2022-05-11  \n",
      "2      PASSAGEIRO             NaN          195.23      156.18     2022-12-08  \n",
      "3      PASSAGEIRO              RJ          130.16      104.12     2019-09-12  \n",
      "4      PASSAGEIRO             NaN          293.47        0.00            NaN  \n"
     ]
    }
   ],
   "source": [
    "import os\n",
    "\n",
    "# Função para importar arquivos CSV de uma pasta e concatená-los em um único DataFrame\n",
    "def importar_csv_de_pasta(pasta):\n",
    "    # Listar todos os arquivos na pasta que terminam com '.csv'\n",
    "    arquivos_csv = [f for f in os.listdir(pasta) if f.endswith('.csv')]\n",
    "    \n",
    "    # Criar uma lista para armazenar os DataFrames\n",
    "    dataframes = []\n",
    "\n",
    "    # Carregar cada arquivo CSV em um DataFrame e adicionar à lista\n",
    "    for arquivo in arquivos_csv:\n",
    "        caminho_completo = os.path.join(pasta, arquivo)\n",
    "        df = pd.read_csv(caminho_completo)\n",
    "        dataframes.append(df)\n",
    "        print(f'{arquivo} importado com sucesso!')\n",
    "\n",
    "    # Concatenar todos os DataFrames em um único\n",
    "    return pd.concat(dataframes, ignore_index=True)\n",
    "\n",
    "# Caminhos para as duas pastas\n",
    "pasta1 = 'E:\\\\Dropbox\\\\transito\\\\microdados\\\\2019'\n",
    "pasta2 = 'E:\\\\Dropbox\\\\transito\\\\microdados\\\\2022'\n",
    "\n",
    "# Importar arquivos de ambas as pastas\n",
    "df_pasta1 = importar_csv_de_pasta(pasta1)\n",
    "df_pasta2 = importar_csv_de_pasta(pasta2)\n",
    "\n",
    "# Concatenar os DataFrames das duas pastas\n",
    "df = pd.concat([df_pasta1, df_pasta2], ignore_index=True)\n",
    "print(df.head())"
   ]
  },
  {
   "cell_type": "code",
   "execution_count": 6,
   "id": "319568ef-0011-44db-88eb-04b3f7ead6cf",
   "metadata": {},
   "outputs": [
    {
     "name": "stdout",
     "output_type": "stream",
     "text": [
      "     especie_veiculo     pontuacao  year_autuacao  month_autuacao  count  \\\n",
      "0                  0            00           2019               1      8   \n",
      "1                  0            00           2019               3      8   \n",
      "2                  0            00           2019              11      2   \n",
      "3                  0            00           2019              12      8   \n",
      "4                  0        03LEVE           2019               7      7   \n",
      "...              ...           ...            ...             ...    ...   \n",
      "1323          TRACAO  07GRAVISSIMA           2022               8     99   \n",
      "1324          TRACAO  07GRAVISSIMA           2022               9    377   \n",
      "1325          TRACAO  07GRAVISSIMA           2022              10    432   \n",
      "1326          TRACAO  07GRAVISSIMA           2022              11     52   \n",
      "1327          TRACAO  07GRAVISSIMA           2022              12     39   \n",
      "\n",
      "      percentage_paid  mean_days_to_pay  \n",
      "0              100.00            1216.0  \n",
      "1              100.00             200.0  \n",
      "2                0.00               NaN  \n",
      "3                0.00               NaN  \n",
      "4                0.00               NaN  \n",
      "...               ...               ...  \n",
      "1323            41.41             521.0  \n",
      "1324            58.89             366.0  \n",
      "1325            60.42             277.0  \n",
      "1326             0.00               NaN  \n",
      "1327            46.15             206.0  \n",
      "\n",
      "[1328 rows x 7 columns]\n"
     ]
    }
   ],
   "source": [
    "# Converter as colunas de datas para o formato datetime\n",
    "df['datetime_autuacao'] = pd.to_datetime(df['datetime_autuacao'], errors='coerce')\n",
    "df['data_pagamento'] = pd.to_datetime(df['data_pagamento'], errors='coerce')\n",
    "\n",
    "# Criar uma nova coluna 'paid' que indica se a multa foi paga\n",
    "df['paid'] = df['valor_pago'] > 0\n",
    "\n",
    "# Calcular o número de dias para pagar, se pago\n",
    "df['days_to_pay'] = (df['data_pagamento'] - df['datetime_autuacao']).dt.days\n",
    "\n",
    "# Limpar e selecionar as colunas relevantes\n",
    "df_cleaned = df[['pontuacao', 'especie_veiculo', 'datetime_autuacao', 'paid', 'days_to_pay']].copy()\n",
    "\n",
    "# Extrair o mês e ano de autuação\n",
    "df_cleaned['month_autuacao'] = df_cleaned['datetime_autuacao'].dt.month\n",
    "df_cleaned['year_autuacao'] = df_cleaned['datetime_autuacao'].dt.year\n",
    "\n",
    "# Agrupar pelas características e calcular a porcentagem paga, o tempo médio para pagar e a contagem de casos\n",
    "result_with_year = df_cleaned.groupby(['especie_veiculo', 'pontuacao', 'year_autuacao', 'month_autuacao']).agg(\n",
    "    count=('pontuacao', 'size'),\n",
    "    percentage_paid=('paid', 'mean'),\n",
    "    mean_days_to_pay=('days_to_pay', lambda x: x[x >= 0].mean())  # Considerar apenas dias positivos para o cálculo\n",
    ").reset_index()\n",
    "\n",
    "# Converter porcentagem para escala de 0-100 e arredondar valores\n",
    "result_with_year['percentage_paid'] = (result_with_year['percentage_paid'] * 100).round(2)\n",
    "result_with_year['mean_days_to_pay'] = result_with_year['mean_days_to_pay'].round(0)\n",
    "\n",
    "# Exibir o resultado ou salvar em um arquivo CSV\n",
    "print(result_with_year)"
   ]
  },
  {
   "cell_type": "code",
   "execution_count": 7,
   "id": "3baeeb0e-7e59-44f0-9dc6-b474c35dabba",
   "metadata": {},
   "outputs": [],
   "source": [
    "# Excluir os dataframes que não são mais necessários para liberar memória\n",
    "del df, df_cleaned"
   ]
  },
  {
   "cell_type": "code",
   "execution_count": 8,
   "id": "22a06d1b-986f-4549-9be8-04d2c328a6bb",
   "metadata": {},
   "outputs": [],
   "source": [
    "result_with_year.to_csv(\"resultado_final.csv\", index=False)"
   ]
  }
 ],
 "metadata": {
  "kernelspec": {
   "display_name": "Python 3 (ipykernel)",
   "language": "python",
   "name": "python3"
  },
  "language_info": {
   "codemirror_mode": {
    "name": "ipython",
    "version": 3
   },
   "file_extension": ".py",
   "mimetype": "text/x-python",
   "name": "python",
   "nbconvert_exporter": "python",
   "pygments_lexer": "ipython3",
   "version": "3.9.13"
  }
 },
 "nbformat": 4,
 "nbformat_minor": 5
}
